{
 "nbformat": 4,
 "nbformat_minor": 0,
 "metadata": {
  "colab": {
   "provenance": [],
   "authorship_tag": "ABX9TyOZlW6CHO766LXQ0Vv5WONs"
  },
  "kernelspec": {
   "name": "python3",
   "display_name": "Python 3"
  },
  "language_info": {
   "name": "python"
  }
 },
 "cells": [
  {
   "cell_type": "code",
   "execution_count": 1,
   "metadata": {
    "colab": {
     "base_uri": "https://localhost:8080/",
     "height": 813
    },
    "id": "fUC5XjRylyt2",
    "executionInfo": {
     "status": "ok",
     "timestamp": 1727392159900,
     "user_tz": -60,
     "elapsed": 1840,
     "user": {
      "displayName": "Korede david",
      "userId": "04917254983458292970"
     }
    },
    "outputId": "aa08ca8a-6adf-4a72-c831-c17e6be23b66"
   },
   "source": [
    "import pandas\n",
    "!wget https://raw.githubusercontent.com/MicrosoftDocs/mslearn-introduction-to-machine-learning/main/graphing.py\n",
    "!wget https://raw.githubusercontent.com/MicrosoftDocs/mslearn-introduction-to-machine-learning/main/Data/snow_objects.csv\n",
    "\n",
    "#Import the data from the .csv file\n",
    "dataset = pandas.read_csv('snow_objects.csv', delimiter=\"\\t\")\n",
    "\n",
    "#Let's have a look at the data\n",
    "dataset"
   ],
   "outputs": []
  },
  {
   "cell_type": "code",
   "source": [
    "import graphing # custom graphing code. See our GitHub repo for details\n",
    "\n",
    "# Plot a histogram with counts for each label\n",
    "graphing.multiple_histogram(dataset, label_x=\"label\", label_group=\"label\", title=\"Label distribution\")"
   ],
   "metadata": {
    "colab": {
     "base_uri": "https://localhost:8080/",
     "height": 417
    },
    "id": "0fARzn3Zl_uV",
    "executionInfo": {
     "status": "ok",
     "timestamp": 1727392223268,
     "user_tz": -60,
     "elapsed": 2140,
     "user": {
      "displayName": "Korede david",
      "userId": "04917254983458292970"
     }
    },
    "outputId": "01e68c59-29a4-4c50-b476-3f45aad1352d"
   },
   "execution_count": 2,
   "outputs": []
  },
  {
   "cell_type": "code",
   "source": [
    "# Plot a histogram with counts for each label\n",
    "graphing.multiple_histogram(dataset, label_x=\"color\", label_group=\"color\", title=\"Color distribution\")"
   ],
   "metadata": {
    "colab": {
     "base_uri": "https://localhost:8080/",
     "height": 417
    },
    "id": "VQoIak-Amfhf",
    "executionInfo": {
     "status": "ok",
     "timestamp": 1727392253105,
     "user_tz": -60,
     "elapsed": 416,
     "user": {
      "displayName": "Korede david",
      "userId": "04917254983458292970"
     }
    },
    "outputId": "9e8f7377-6165-4046-aef3-86e96c60da60"
   },
   "execution_count": 3,
   "outputs": []
  },
  {
   "cell_type": "code",
   "source": [
    "graphing.box_and_whisker(dataset, label_y=\"size\", title='Boxplot of \"size\" feature')"
   ],
   "metadata": {
    "colab": {
     "base_uri": "https://localhost:8080/",
     "height": 417
    },
    "id": "F4eY81CDmwuw",
    "executionInfo": {
     "status": "ok",
     "timestamp": 1727392325229,
     "user_tz": -60,
     "elapsed": 493,
     "user": {
      "displayName": "Korede david",
      "userId": "04917254983458292970"
     }
    },
    "outputId": "af8a1015-c5e0-4d12-c4e5-6cf199244b20"
   },
   "execution_count": 4,
   "outputs": []
  },
  {
   "cell_type": "code",
   "source": [
    "graphing.box_and_whisker(dataset, label_y=\"roughness\", title='Boxplot of \"roughness\" feature')"
   ],
   "metadata": {
    "colab": {
     "base_uri": "https://localhost:8080/",
     "height": 417
    },
    "id": "qN3ddmQamwwV",
    "executionInfo": {
     "status": "ok",
     "timestamp": 1727392348283,
     "user_tz": -60,
     "elapsed": 519,
     "user": {
      "displayName": "Korede david",
      "userId": "04917254983458292970"
     }
    },
    "outputId": "1790c943-9b95-47b4-aa5a-2443b5539f98"
   },
   "execution_count": 5,
   "outputs": []
  },
  {
   "cell_type": "code",
   "source": [
    "graphing.box_and_whisker(dataset, label_y=\"motion\", title='Boxplot of \"motion\" feature')"
   ],
   "metadata": {
    "colab": {
     "base_uri": "https://localhost:8080/",
     "height": 417
    },
    "id": "LGQ1bzDGm-mU",
    "executionInfo": {
     "status": "ok",
     "timestamp": 1727392380335,
     "user_tz": -60,
     "elapsed": 461,
     "user": {
      "displayName": "Korede david",
      "userId": "04917254983458292970"
     }
    },
    "outputId": "34f7c38a-49e2-40d9-bcae-d618c77cc936"
   },
   "execution_count": 6,
   "outputs": []
  },
  {
   "cell_type": "code",
   "source": [
    "from sklearn.ensemble import RandomForestClassifier\n",
    "from sklearn.model_selection import train_test_split\n",
    "\n",
    "# Split the dataset in an 70/30 train/test ratio.\n",
    "train, test = train_test_split(dataset, test_size=0.3, random_state=2)\n",
    "print(train.shape)\n",
    "print(test.shape)"
   ],
   "metadata": {
    "colab": {
     "base_uri": "https://localhost:8080/"
    },
    "id": "sqnNpeCnnJEH",
    "executionInfo": {
     "status": "ok",
     "timestamp": 1727392425243,
     "user_tz": -60,
     "elapsed": 2585,
     "user": {
      "displayName": "Korede david",
      "userId": "04917254983458292970"
     }
    },
    "outputId": "b9a058cb-224a-4579-f297-3bc0b98daf28"
   },
   "execution_count": 7,
   "outputs": []
  },
  {
   "cell_type": "code",
   "source": [
    "# Create the model\n",
    "model = RandomForestClassifier(n_estimators=1, random_state=1, verbose=False)\n",
    "\n",
    "# Define which features are to be used (leave color out for now)\n",
    "features = [\"size\", \"roughness\", \"motion\"]\n",
    "\n",
    "# Train the model\n",
    "model.fit(train[features], train.label)\n",
    "\n",
    "print(\"Model trained!\")"
   ],
   "metadata": {
    "colab": {
     "base_uri": "https://localhost:8080/"
    },
    "id": "ClaXq5J_nRKo",
    "executionInfo": {
     "status": "ok",
     "timestamp": 1727392459290,
     "user_tz": -60,
     "elapsed": 403,
     "user": {
      "displayName": "Korede david",
      "userId": "04917254983458292970"
     }
    },
    "outputId": "d09055e9-77d1-4f53-f2e5-029449c582e2"
   },
   "execution_count": 8,
   "outputs": []
  },
  {
   "cell_type": "code",
   "source": [
    "# Import a function that measures a models accuracy\n",
    "from sklearn.metrics import accuracy_score\n",
    "\n",
    "# Calculate the model's accuracy on the TEST set\n",
    "actual = test.label\n",
    "predictions = model.predict(test[features])\n",
    "\n",
    "# Return accuracy as a fraction\n",
    "acc = accuracy_score(actual, predictions)\n",
    "\n",
    "# Return accuracy as a number of correct predictions\n",
    "acc_norm = accuracy_score(actual, predictions, normalize=False)\n",
    "\n",
    "print(f\"The random forest model's accuracy on the test set is {acc:.4f}.\")\n",
    "print(f\"It correctly predicted {acc_norm} labels in {len(test.label)} predictions.\")"
   ],
   "metadata": {
    "colab": {
     "base_uri": "https://localhost:8080/"
    },
    "id": "HoKXQ7eSnZ0B",
    "executionInfo": {
     "status": "ok",
     "timestamp": 1727392493649,
     "user_tz": -60,
     "elapsed": 404,
     "user": {
      "displayName": "Korede david",
      "userId": "04917254983458292970"
     }
    },
    "outputId": "6a9461e5-e1c7-4c66-8fbf-858da8a743fb"
   },
   "execution_count": 9,
   "outputs": []
  },
  {
   "cell_type": "code",
   "source": [
    "# sklearn has a very convenient utility to build confusion matrices\n",
    "from sklearn.metrics import confusion_matrix\n",
    "\n",
    "# Build and print our confusion matrix, using the actual values and predictions\n",
    "# from the test set, calculated in previous cells\n",
    "cm = confusion_matrix(actual, predictions, normalize=None)\n",
    "\n",
    "print(\"Confusion matrix for the test set:\")\n",
    "print(cm)\n"
   ],
   "metadata": {
    "colab": {
     "base_uri": "https://localhost:8080/"
    },
    "id": "6Iggxsv7naxN",
    "executionInfo": {
     "status": "ok",
     "timestamp": 1727392577686,
     "user_tz": -60,
     "elapsed": 404,
     "user": {
      "displayName": "Korede david",
      "userId": "04917254983458292970"
     }
    },
    "outputId": "ea735b68-d5d7-4277-eafd-c2588eac69d4"
   },
   "execution_count": 10,
   "outputs": []
  },
  {
   "cell_type": "code",
   "source": [
    "# We use plotly to create plots and charts\n",
    "import plotly.figure_factory as ff\n",
    "\n",
    "# Create the list of unique labels in the test set, to use in our plot\n",
    "# I.e., ['animal', 'hiker', 'rock', 'tree']\n",
    "x = y = sorted(list(test[\"label\"].unique()))\n",
    "\n",
    "# Plot the matrix above as a heatmap with annotations (values) in its cells\n",
    "fig = ff.create_annotated_heatmap(cm, x, y)\n",
    "\n",
    "# Set titles and ordering\n",
    "fig.update_layout(  title_text=\"<b>Confusion matrix</b>\",\n",
    "                    yaxis = dict(categoryorder = \"category descending\"))\n",
    "\n",
    "fig.add_annotation(dict(font=dict(color=\"black\",size=14),\n",
    "                        x=0.5,\n",
    "                        y=-0.15,\n",
    "                        showarrow=False,\n",
    "                        text=\"Predicted label\",\n",
    "                        xref=\"paper\",\n",
    "                        yref=\"paper\"))\n",
    "\n",
    "fig.add_annotation(dict(font=dict(color=\"black\",size=14),\n",
    "                        x=-0.15,\n",
    "                        y=0.5,\n",
    "                        showarrow=False,\n",
    "                        text=\"Actual label\",\n",
    "                        textangle=-90,\n",
    "                        xref=\"paper\",\n",
    "                        yref=\"paper\"))\n",
    "\n",
    "# We need margins so the titles fit\n",
    "fig.update_layout(margin=dict(t=80, r=20, l=100, b=50))\n",
    "fig['data'][0]['showscale'] = True\n",
    "fig.show()"
   ],
   "metadata": {
    "colab": {
     "base_uri": "https://localhost:8080/",
     "height": 417
    },
    "id": "09UKqD-wnvTZ",
    "executionInfo": {
     "status": "ok",
     "timestamp": 1727392789943,
     "user_tz": -60,
     "elapsed": 1623,
     "user": {
      "displayName": "Korede david",
      "userId": "04917254983458292970"
     }
    },
    "outputId": "f5d17c2c-6cc1-468a-ae77-01bc4c627cfd"
   },
   "execution_count": 11,
   "outputs": []
  }
 ]
}
